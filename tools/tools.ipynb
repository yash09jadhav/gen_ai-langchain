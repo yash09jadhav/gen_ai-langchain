{
 "cells": [
  {
   "cell_type": "markdown",
   "id": "a4148b00",
   "metadata": {},
   "source": [
    "## 1. duckduckgo"
   ]
  },
  {
   "cell_type": "code",
   "execution_count": 2,
   "id": "0172811b",
   "metadata": {},
   "outputs": [
    {
     "name": "stderr",
     "output_type": "stream",
     "text": [
      "c:\\Users\\LENOVO\\OneDrive\\Desktop\\ds\\langchain\\14_tools\\venv\\Lib\\site-packages\\langchain_community\\utilities\\duckduckgo_search.py:63: RuntimeWarning: This package (`duckduckgo_search`) has been renamed to `ddgs`! Use `pip install ddgs` instead.\n",
      "  with DDGS() as ddgs:\n"
     ]
    },
    {
     "data": {
      "text/plain": [
       "\"Latest and Breaking Cricket News: Check live cricket scores, schedule, results, scorecard, upcoming matches list and ball by ball commentary along with player stats, player profiles, team profiles ... Mar 9, 2025 · India topped Group A by winning all three matches and went on to beat Australia by four wickets in the semifinal. New Zealand, meanwhile, defeated South Africa by 50 runs in the other semifinal. Aug 8, 2025 · After their gripping 2-2 Test series draw against England, India’s cricket calendar remains packed for the remainder of 2025, with tournaments and bilateral series across formats. Jun 29, 2025 · On this day in 2024, Team India gave its cricket-obsessed fans a night to remember forever by lifting the T20 World Cup trophy. The victory was more than just a title. Aug 5, 2025 · India clinched a six-run victory against England in the final Test at The Oval, drawing the series 2-2. Mohammed Siraj's stellar performance led India's comeback after initial defeats.\""
      ]
     },
     "execution_count": 2,
     "metadata": {},
     "output_type": "execute_result"
    }
   ],
   "source": [
    "from langchain_community.tools import DuckDuckGoSearchRun\n",
    "search_tool = DuckDuckGoSearchRun()\n",
    "search_tool.invoke('indian cricket news')"
   ]
  },
  {
   "cell_type": "code",
   "execution_count": 3,
   "id": "a357da1f",
   "metadata": {},
   "outputs": [
    {
     "name": "stdout",
     "output_type": "stream",
     "text": [
      "duckduckgo_search\n",
      "A wrapper around DuckDuckGo Search. Useful for when you need to answer questions about current events. Input should be a search query.\n",
      "{'query': {'description': 'search query to look up', 'title': 'Query', 'type': 'string'}}\n"
     ]
    }
   ],
   "source": [
    "print(search_tool.name)\n",
    "print(search_tool.description)\n",
    "print(search_tool.args)"
   ]
  },
  {
   "cell_type": "markdown",
   "id": "2bf6572c",
   "metadata": {},
   "source": [
    "## 2. shell"
   ]
  },
  {
   "cell_type": "code",
   "execution_count": 7,
   "id": "b699055a",
   "metadata": {},
   "outputs": [
    {
     "name": "stdout",
     "output_type": "stream",
     "text": [
      "Executing command:\n",
      " whoami\n"
     ]
    },
    {
     "name": "stderr",
     "output_type": "stream",
     "text": [
      "c:\\Users\\LENOVO\\OneDrive\\Desktop\\ds\\langchain\\14_tools\\venv\\Lib\\site-packages\\langchain_community\\tools\\shell\\tool.py:33: UserWarning: The shell tool has no safeguards by default. Use at your own risk.\n",
      "  warnings.warn(\n"
     ]
    },
    {
     "data": {
      "text/plain": [
       "'yash\\\\lenovo\\r\\n'"
      ]
     },
     "execution_count": 7,
     "metadata": {},
     "output_type": "execute_result"
    }
   ],
   "source": [
    "from langchain_community.tools import ShellTool\n",
    "shell_tool = ShellTool()\n",
    "shell_tool.invoke('whoami')"
   ]
  },
  {
   "cell_type": "markdown",
   "id": "44aea4e4",
   "metadata": {},
   "source": [
    "## custom tools\n",
    "### 1. using decorator"
   ]
  },
  {
   "cell_type": "markdown",
   "id": "e826103e",
   "metadata": {},
   "source": [
    "1. create a function with comment\n",
    "2. add data type hints\n",
    "3. add decorator on top"
   ]
  },
  {
   "cell_type": "code",
   "execution_count": null,
   "id": "68e5c56a",
   "metadata": {},
   "outputs": [],
   "source": [
    "from langchain_core.tools import tool\n",
    "\n",
    "@tool\n",
    "def multiply(x: int, y: int) -> int:\n",
    "    \"\"\"multiplies two numbers.\"\"\"\n",
    "    return x*y"
   ]
  },
  {
   "cell_type": "code",
   "execution_count": 12,
   "id": "81991b56",
   "metadata": {},
   "outputs": [
    {
     "data": {
      "text/plain": [
       "50"
      ]
     },
     "execution_count": 12,
     "metadata": {},
     "output_type": "execute_result"
    }
   ],
   "source": [
    "multiply({\"x\": 5, \"y\": 10}) "
   ]
  },
  {
   "cell_type": "markdown",
   "id": "e15d3756",
   "metadata": {},
   "source": [
    "every tool has 3 attributes"
   ]
  },
  {
   "cell_type": "code",
   "execution_count": 13,
   "id": "980bef13",
   "metadata": {},
   "outputs": [
    {
     "name": "stdout",
     "output_type": "stream",
     "text": [
      "multiply\n",
      "multiplies two numbers.\n",
      "{'x': {'title': 'X', 'type': 'integer'}, 'y': {'title': 'Y', 'type': 'integer'}}\n"
     ]
    }
   ],
   "source": [
    "print(multiply.name)\n",
    "print(multiply.description)\n",
    "print(multiply.args)"
   ]
  },
  {
   "cell_type": "markdown",
   "id": "199587d1",
   "metadata": {},
   "source": [
    "this is what llm sees"
   ]
  },
  {
   "cell_type": "code",
   "execution_count": 14,
   "id": "26ebfd70",
   "metadata": {},
   "outputs": [
    {
     "data": {
      "text/plain": [
       "{'description': 'multiplies two numbers.',\n",
       " 'properties': {'x': {'title': 'X', 'type': 'integer'},\n",
       "  'y': {'title': 'Y', 'type': 'integer'}},\n",
       " 'required': ['x', 'y'],\n",
       " 'title': 'multiply',\n",
       " 'type': 'object'}"
      ]
     },
     "execution_count": 14,
     "metadata": {},
     "output_type": "execute_result"
    }
   ],
   "source": [
    "multiply.args_schema.model_json_schema()"
   ]
  },
  {
   "cell_type": "markdown",
   "id": "fea78def",
   "metadata": {},
   "source": [
    "### 2. using structuredtool"
   ]
  },
  {
   "cell_type": "code",
   "execution_count": 15,
   "id": "0d149860",
   "metadata": {},
   "outputs": [],
   "source": [
    "from langchain.tools import StructuredTool\n",
    "from pydantic import BaseModel, Field"
   ]
  },
  {
   "cell_type": "code",
   "execution_count": 24,
   "id": "f22a9801",
   "metadata": {},
   "outputs": [
    {
     "name": "stderr",
     "output_type": "stream",
     "text": [
      "c:\\Users\\LENOVO\\OneDrive\\Desktop\\ds\\langchain\\14_tools\\venv\\Lib\\site-packages\\pydantic\\fields.py:1093: PydanticDeprecatedSince20: Using extra keyword arguments on `Field` is deprecated and will be removed. Use `json_schema_extra` instead. (Extra keys: 'required'). Deprecated in Pydantic V2.0 to be removed in V3.0. See Pydantic V2 Migration Guide at https://errors.pydantic.dev/2.11/migration/\n",
      "  warn(\n",
      "c:\\Users\\LENOVO\\OneDrive\\Desktop\\ds\\langchain\\14_tools\\venv\\Lib\\site-packages\\pydantic\\fields.py:1093: PydanticDeprecatedSince20: Using extra keyword arguments on `Field` is deprecated and will be removed. Use `json_schema_extra` instead. (Extra keys: 'required'). Deprecated in Pydantic V2.0 to be removed in V3.0. See Pydantic V2 Migration Guide at https://errors.pydantic.dev/2.11/migration/\n",
      "  warn(\n"
     ]
    }
   ],
   "source": [
    "class MultiplyInput(BaseModel):\n",
    "    a: int = Field(required = True, description=\"The first number to multiply\")\n",
    "    b: int = Field(required = True, description=\"The second number to multiply\")"
   ]
  },
  {
   "cell_type": "code",
   "execution_count": 26,
   "id": "296d6526",
   "metadata": {},
   "outputs": [],
   "source": [
    "def multiply_func(a, b) -> int:\n",
    "    return a * b"
   ]
  },
  {
   "cell_type": "code",
   "execution_count": 27,
   "id": "ed143ead",
   "metadata": {},
   "outputs": [],
   "source": [
    "multiply_tool = StructuredTool.from_function(\n",
    "    func=multiply_func,\n",
    "    name=\"multiply\",\n",
    "    description=\"multiplies two numbers\",\n",
    "    args_schema=MultiplyInput  \n",
    ")"
   ]
  },
  {
   "cell_type": "code",
   "execution_count": 28,
   "id": "d9680afb",
   "metadata": {},
   "outputs": [
    {
     "data": {
      "text/plain": [
       "50"
      ]
     },
     "execution_count": 28,
     "metadata": {},
     "output_type": "execute_result"
    }
   ],
   "source": [
    "multiply_tool.invoke({'a': 5, 'b': 10})"
   ]
  },
  {
   "cell_type": "markdown",
   "id": "761bc49e",
   "metadata": {},
   "source": [
    "### 3. basetool class"
   ]
  },
  {
   "cell_type": "code",
   "execution_count": 29,
   "id": "9c9902ab",
   "metadata": {},
   "outputs": [],
   "source": [
    "from langchain_core.tools import BaseTool\n",
    "from typing import Type"
   ]
  },
  {
   "cell_type": "code",
   "execution_count": 31,
   "id": "555b3c79",
   "metadata": {},
   "outputs": [
    {
     "name": "stderr",
     "output_type": "stream",
     "text": [
      "c:\\Users\\LENOVO\\OneDrive\\Desktop\\ds\\langchain\\14_tools\\venv\\Lib\\site-packages\\pydantic\\fields.py:1093: PydanticDeprecatedSince20: Using extra keyword arguments on `Field` is deprecated and will be removed. Use `json_schema_extra` instead. (Extra keys: 'required'). Deprecated in Pydantic V2.0 to be removed in V3.0. See Pydantic V2 Migration Guide at https://errors.pydantic.dev/2.11/migration/\n",
      "  warn(\n",
      "c:\\Users\\LENOVO\\OneDrive\\Desktop\\ds\\langchain\\14_tools\\venv\\Lib\\site-packages\\pydantic\\fields.py:1093: PydanticDeprecatedSince20: Using extra keyword arguments on `Field` is deprecated and will be removed. Use `json_schema_extra` instead. (Extra keys: 'required'). Deprecated in Pydantic V2.0 to be removed in V3.0. See Pydantic V2 Migration Guide at https://errors.pydantic.dev/2.11/migration/\n",
      "  warn(\n"
     ]
    }
   ],
   "source": [
    "class addition(BaseModel):\n",
    "    a: int = Field(required=True, description=\"The first number to add\")\n",
    "    b: int = Field(required=True, description=\"The second number to add\")"
   ]
  },
  {
   "cell_type": "code",
   "execution_count": 32,
   "id": "ace8979e",
   "metadata": {},
   "outputs": [],
   "source": [
    "class add(BaseTool):\n",
    "    name: str = \"addition\"\n",
    "    description: str = \"add two numbers\"\n",
    "\n",
    "    args_schema: Type[BaseModel] = addition\n",
    "\n",
    "    def _run(self, a: int, b: int) -> int:\n",
    "        return a + b"
   ]
  },
  {
   "cell_type": "code",
   "execution_count": 33,
   "id": "5db94771",
   "metadata": {},
   "outputs": [
    {
     "data": {
      "text/plain": [
       "15"
      ]
     },
     "execution_count": 33,
     "metadata": {},
     "output_type": "execute_result"
    }
   ],
   "source": [
    "obj = add()\n",
    "obj.invoke({'a': 5, 'b': 10})"
   ]
  },
  {
   "cell_type": "markdown",
   "id": "4fada03d",
   "metadata": {},
   "source": [
    "## toolkits"
   ]
  },
  {
   "cell_type": "code",
   "execution_count": 34,
   "id": "cc7c8ed0",
   "metadata": {},
   "outputs": [],
   "source": [
    "from langchain_core.tools import tool\n",
    "\n",
    "@tool\n",
    "def add(a: int, b: int) -> int:\n",
    "    \"\"\"Add two numbers\"\"\"\n",
    "    return a + b\n",
    "\n",
    "@tool\n",
    "def multiply(a: int, b: int) -> int:\n",
    "    \"\"\"Multiply two numbers\"\"\"\n",
    "    return a * b\n"
   ]
  },
  {
   "cell_type": "code",
   "execution_count": 35,
   "id": "b30add76",
   "metadata": {},
   "outputs": [],
   "source": [
    "class mathtoolkit:\n",
    "    def get_tools(self):\n",
    "        return [add, multiply]"
   ]
  },
  {
   "cell_type": "code",
   "execution_count": 37,
   "id": "0eaa3430",
   "metadata": {},
   "outputs": [
    {
     "name": "stdout",
     "output_type": "stream",
     "text": [
      "add -> Add two numbers\n",
      "multiply -> Multiply two numbers\n"
     ]
    }
   ],
   "source": [
    "toolkit = mathtoolkit()\n",
    "tools = toolkit.get_tools()\n",
    "for i in tools:\n",
    "    print(i.name, \"->\", i.description)"
   ]
  }
 ],
 "metadata": {
  "kernelspec": {
   "display_name": "venv",
   "language": "python",
   "name": "python3"
  },
  "language_info": {
   "codemirror_mode": {
    "name": "ipython",
    "version": 3
   },
   "file_extension": ".py",
   "mimetype": "text/x-python",
   "name": "python",
   "nbconvert_exporter": "python",
   "pygments_lexer": "ipython3",
   "version": "3.12.4"
  }
 },
 "nbformat": 4,
 "nbformat_minor": 5
}
