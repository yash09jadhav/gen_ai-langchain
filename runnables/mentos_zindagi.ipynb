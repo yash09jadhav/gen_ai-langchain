{
 "cells": [
  {
   "cell_type": "markdown",
   "id": "b8037e88-0213-4587-a0e2-6814ae0ba979",
   "metadata": {},
   "source": [
    "- we need to standardize the components hence we need common methods, so that\n",
    "can be done using abstract class"
   ]
  },
  {
   "cell_type": "code",
   "execution_count": 1,
   "id": "a7b70730-630b-4f53-a2ac-5c9fb27b95e2",
   "metadata": {},
   "outputs": [],
   "source": [
    "from abc import ABC, abstractmethod\n",
    "\n",
    "class Runnable(ABC):\n",
    "    @abstractmethod\n",
    "    def invoke(input_data):\n",
    "        pass"
   ]
  },
  {
   "cell_type": "code",
   "execution_count": 2,
   "id": "2219f58c-7039-4e0b-ab55-2e62e0d63ff9",
   "metadata": {},
   "outputs": [],
   "source": [
    "import random\n",
    "\n",
    "class nakli_llm(Runnable):\n",
    "\n",
    "    def __init__(self):\n",
    "        print('llm created')\n",
    "\n",
    "    def invoke(self, prompt):\n",
    "        response_list = [\n",
    "            'delhi is the capital of india',\n",
    "            'ipl is a cricket league',\n",
    "            'ai stands for artificial intelligence'\n",
    "        ]\n",
    "        return {'response': random.choice(response_list)}\n",
    "\n",
    "    def predict(self, prompt):\n",
    "        \n",
    "        response_list = [\n",
    "            'delhi is the capital of india',\n",
    "            'ipl is a cricket league',\n",
    "            'ai stands for artificial intelligence'\n",
    "        ]\n",
    "        return {'response': random.choice(response_list)}"
   ]
  },
  {
   "cell_type": "code",
   "execution_count": 3,
   "id": "5abc7b38-d8f8-4510-bef1-e2da13731939",
   "metadata": {},
   "outputs": [
    {
     "name": "stdout",
     "output_type": "stream",
     "text": [
      "llm created\n"
     ]
    }
   ],
   "source": [
    "llm = nakli_llm()"
   ]
  },
  {
   "cell_type": "code",
   "execution_count": 4,
   "id": "8cd7706d-3f89-4c74-b031-fbff3c29f7ff",
   "metadata": {},
   "outputs": [],
   "source": [
    "class nakli_prompt_template:\n",
    "    def __init__(self, template, input_variables):\n",
    "        self.template = template \n",
    "        self.input_variables = input_variables\n",
    "\n",
    "    def invoke(self, input_dict):\n",
    "        return self.template.format(**input_dict)\n",
    "\n",
    "    def format(self, input_dict):\n",
    "        return self.template.format(**input_dict)"
   ]
  },
  {
   "cell_type": "code",
   "execution_count": 10,
   "id": "b61d10ba-bd2e-49dc-bcd8-178d740320be",
   "metadata": {},
   "outputs": [],
   "source": [
    "class nakli_parser(Runnable):\n",
    "    def __init__(self):\n",
    "        pass\n",
    "\n",
    "    def invoke(self, input_data):\n",
    "        return input_data['response']\n",
    "    "
   ]
  },
  {
   "cell_type": "code",
   "execution_count": 5,
   "id": "2f42e067-3f9c-401a-b9ec-ef670932f5ad",
   "metadata": {},
   "outputs": [],
   "source": [
    "class RunnableConnector(Runnable):\n",
    "    def __init__(self, runnable_list):\n",
    "        self.runnable_list = runnable_list\n",
    "\n",
    "    def invoke(self, input_data):\n",
    "        for runnable in self.runnable_list:\n",
    "            return runnable.invoke(input_data)"
   ]
  },
  {
   "cell_type": "code",
   "execution_count": 6,
   "id": "e84dff2e-2dfd-4e8e-8102-c0974a1d810c",
   "metadata": {},
   "outputs": [],
   "source": [
    "template = nakli_prompt_template(\n",
    "    template = 'write a {length} poem about {topic}',\n",
    "    input_variables = ['length','topic']\n",
    ")"
   ]
  },
  {
   "cell_type": "code",
   "execution_count": 7,
   "id": "193a8c11-47f0-4216-abfd-0b81ea0f4405",
   "metadata": {},
   "outputs": [
    {
     "name": "stdout",
     "output_type": "stream",
     "text": [
      "llm created\n"
     ]
    }
   ],
   "source": [
    "llm = nakli_llm()"
   ]
  },
  {
   "cell_type": "code",
   "execution_count": 11,
   "id": "38005670-a082-46db-8479-25f4b8d0e2fc",
   "metadata": {},
   "outputs": [],
   "source": [
    "parser = nakli_parser()"
   ]
  },
  {
   "cell_type": "code",
   "execution_count": 12,
   "id": "2d11471e-a28a-48ba-bfab-abf0f7ac28e6",
   "metadata": {},
   "outputs": [],
   "source": [
    "chain = RunnableConnector([template, llm])"
   ]
  },
  {
   "cell_type": "code",
   "execution_count": 13,
   "id": "69cdc5f2-b464-40fd-981b-b8faf49b7217",
   "metadata": {},
   "outputs": [
    {
     "data": {
      "text/plain": [
       "'write a long poem about india'"
      ]
     },
     "execution_count": 13,
     "metadata": {},
     "output_type": "execute_result"
    }
   ],
   "source": [
    "chain.invoke({'length':'long', 'topic':'india'})"
   ]
  },
  {
   "cell_type": "markdown",
   "id": "a7dbe23c-75c9-4b7a-9a87-639126eb9444",
   "metadata": {},
   "source": [
    "aim : topic -> 1st llm will generate a joke -> 2nd llm will give its explanation"
   ]
  },
  {
   "cell_type": "code",
   "execution_count": 15,
   "id": "9326b908-dad0-41d5-aaa2-ad9e6d20a3cc",
   "metadata": {},
   "outputs": [],
   "source": [
    "template1 = nakli_prompt_template(\n",
    "    template = 'write a joke about {topic}',\n",
    "    input_variables = ['topic']\n",
    ")"
   ]
  },
  {
   "cell_type": "code",
   "execution_count": 17,
   "id": "4e20bc36-6285-4b81-9eba-5c129c29c346",
   "metadata": {},
   "outputs": [],
   "source": [
    "template2 = nakli_prompt_template(\n",
    "    template = 'explain the joke {response}',\n",
    "    input_variables = ['response']\n",
    ")"
   ]
  },
  {
   "cell_type": "code",
   "execution_count": 18,
   "id": "3f8db867-3dc0-4010-8c66-61c9da47837d",
   "metadata": {},
   "outputs": [
    {
     "name": "stdout",
     "output_type": "stream",
     "text": [
      "llm created\n"
     ]
    }
   ],
   "source": [
    "llm = nakli_llm()"
   ]
  },
  {
   "cell_type": "code",
   "execution_count": 19,
   "id": "211eca8e-30dc-4a90-9445-fe20214c8b62",
   "metadata": {},
   "outputs": [],
   "source": [
    "parser = nakli_parser()"
   ]
  },
  {
   "cell_type": "code",
   "execution_count": 20,
   "id": "22db1a96-610d-4b02-bf16-af4997bfe44c",
   "metadata": {},
   "outputs": [],
   "source": [
    "chain1 = RunnableConnector([template1, llm])"
   ]
  },
  {
   "cell_type": "code",
   "execution_count": 22,
   "id": "f2332565-c198-4933-a5ea-22b42ec805d9",
   "metadata": {},
   "outputs": [],
   "source": [
    "chain2 = RunnableConnector([template2, llm, parser])"
   ]
  },
  {
   "cell_type": "code",
   "execution_count": 25,
   "id": "ae7a1b6a-ad6b-4956-bdd7-13fe5b7c0b3e",
   "metadata": {},
   "outputs": [],
   "source": [
    "final_chain = RunnableConnector([chain1, chain2])"
   ]
  },
  {
   "cell_type": "code",
   "execution_count": 26,
   "id": "a8a33d87-68b0-467f-aa01-3427ac2c8023",
   "metadata": {},
   "outputs": [
    {
     "data": {
      "text/plain": [
       "'write a joke about cricket'"
      ]
     },
     "execution_count": 26,
     "metadata": {},
     "output_type": "execute_result"
    }
   ],
   "source": [
    "final_chain.invoke({'topic':'cricket'})"
   ]
  }
 ],
 "metadata": {
  "kernelspec": {
   "display_name": "Python 3 (ipykernel)",
   "language": "python",
   "name": "python3"
  },
  "language_info": {
   "codemirror_mode": {
    "name": "ipython",
    "version": 3
   },
   "file_extension": ".py",
   "mimetype": "text/x-python",
   "name": "python",
   "nbconvert_exporter": "python",
   "pygments_lexer": "ipython3",
   "version": "3.12.4"
  }
 },
 "nbformat": 4,
 "nbformat_minor": 5
}
