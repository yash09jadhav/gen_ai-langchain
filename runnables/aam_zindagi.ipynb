{
 "cells": [
  {
   "cell_type": "code",
   "execution_count": 7,
   "id": "e7adef45-8132-422d-b7fa-88f043d5d561",
   "metadata": {},
   "outputs": [],
   "source": [
    "import random\n",
    "\n",
    "class nakli_llm:\n",
    "\n",
    "    def __init__(self):\n",
    "        print('llm created')\n",
    "\n",
    "    def predict(self, prompt):\n",
    "        \n",
    "        response_list = [\n",
    "            'delhi is the capital of india',\n",
    "            'ipl is a cricket league',\n",
    "            'ai stands for artificial intelligence'\n",
    "        ]\n",
    "        return {'response': random.choice(response_list)}"
   ]
  },
  {
   "cell_type": "code",
   "execution_count": 8,
   "id": "b71b3d51-b0cb-4976-8da5-b1eee4a2b931",
   "metadata": {},
   "outputs": [
    {
     "name": "stdout",
     "output_type": "stream",
     "text": [
      "llm created\n"
     ]
    }
   ],
   "source": [
    "llm = nakli_llm()"
   ]
  },
  {
   "cell_type": "code",
   "execution_count": 9,
   "id": "ae0b569f-7e7f-4364-878e-0645ad0371e3",
   "metadata": {},
   "outputs": [
    {
     "data": {
      "text/plain": [
       "{'response': 'delhi is the capital of india'}"
      ]
     },
     "execution_count": 9,
     "metadata": {},
     "output_type": "execute_result"
    }
   ],
   "source": [
    "llm.predict('what is capital of india')"
   ]
  },
  {
   "cell_type": "markdown",
   "id": "73380836-6947-4375-9e9a-3fbe044a942a",
   "metadata": {},
   "source": [
    "-----------------------------------------------------------------"
   ]
  },
  {
   "cell_type": "code",
   "execution_count": 17,
   "id": "99c191b0-7c06-4695-b3d2-e4d4b4400f3a",
   "metadata": {},
   "outputs": [],
   "source": [
    "class nakli_prompt_template:\n",
    "    def __init__(self, template, input_variables):\n",
    "        self.template = template \n",
    "        self.input_variables = input_variables\n",
    "\n",
    "    def format(self, input_dict):\n",
    "        return self.template.format(**input_dict)\n"
   ]
  },
  {
   "cell_type": "code",
   "execution_count": 18,
   "id": "410f1dd4-e95a-4c48-a4ef-5a29159e37a9",
   "metadata": {},
   "outputs": [],
   "source": [
    "template = nakli_prompt_template(\n",
    "    template = 'write a {length} poem about {topic}',\n",
    "    input_variables = ['length', 'topic']\n",
    ")"
   ]
  },
  {
   "cell_type": "code",
   "execution_count": 19,
   "id": "db705f1d-d0e6-4cc4-a1aa-a281cfb6d0ee",
   "metadata": {},
   "outputs": [],
   "source": [
    "prompt = template.format({'topic' : 'india', 'length' : 'short'})"
   ]
  },
  {
   "cell_type": "code",
   "execution_count": 20,
   "id": "827a8315-1d6d-42da-aa8d-080814628998",
   "metadata": {},
   "outputs": [
    {
     "name": "stdout",
     "output_type": "stream",
     "text": [
      "llm created\n"
     ]
    }
   ],
   "source": [
    "llm = nakli_llm()"
   ]
  },
  {
   "cell_type": "code",
   "execution_count": 21,
   "id": "0982ee5e-ce1d-48c2-abe2-9f69941b6c66",
   "metadata": {},
   "outputs": [
    {
     "data": {
      "text/plain": [
       "{'response': 'ipl is a cricket league'}"
      ]
     },
     "execution_count": 21,
     "metadata": {},
     "output_type": "execute_result"
    }
   ],
   "source": [
    "llm.predict(prompt)"
   ]
  },
  {
   "cell_type": "code",
   "execution_count": 22,
   "id": "1d62f9f2-2474-4a3e-9f2c-2c6947b9b12e",
   "metadata": {},
   "outputs": [],
   "source": [
    "class NakliLLMChain:\n",
    "\n",
    "  def __init__(self, llm, prompt):\n",
    "    self.llm = llm\n",
    "    self.prompt = prompt\n",
    "\n",
    "  def run(self, input_dict):\n",
    "\n",
    "    final_prompt = self.prompt.format(input_dict)\n",
    "    result = self.llm.predict(final_prompt)\n",
    "\n",
    "    return result['response']\n"
   ]
  },
  {
   "cell_type": "code",
   "execution_count": 24,
   "id": "3b944a9f-bc66-4836-8e42-1cae7498d6f6",
   "metadata": {},
   "outputs": [],
   "source": [
    "template = nakli_prompt_template(\n",
    "    template='Write a {length} poem about {topic}',\n",
    "    input_variables=['length', 'topic']\n",
    ")"
   ]
  },
  {
   "cell_type": "code",
   "execution_count": 26,
   "id": "fa82d8c1-8ac2-42da-9685-edda5b42872a",
   "metadata": {},
   "outputs": [
    {
     "name": "stdout",
     "output_type": "stream",
     "text": [
      "llm created\n"
     ]
    }
   ],
   "source": [
    "llm = nakli_llm()"
   ]
  },
  {
   "cell_type": "code",
   "execution_count": 27,
   "id": "477ac7f2-b13d-4aff-b89f-80277f4095c1",
   "metadata": {},
   "outputs": [],
   "source": [
    "chain = NakliLLMChain(llm, template)"
   ]
  },
  {
   "cell_type": "code",
   "execution_count": 28,
   "id": "1ac7a33a-d25d-4382-98ec-e4227d5f1dd4",
   "metadata": {},
   "outputs": [
    {
     "data": {
      "text/plain": [
       "'delhi is the capital of india'"
      ]
     },
     "execution_count": 28,
     "metadata": {},
     "output_type": "execute_result"
    }
   ],
   "source": [
    "chain.run({'length':'short', 'topic': 'india'})"
   ]
  },
  {
   "cell_type": "code",
   "execution_count": null,
   "id": "7c0c0c9f-2db7-44c9-b1ed-568f2da3ff0a",
   "metadata": {},
   "outputs": [],
   "source": []
  }
 ],
 "metadata": {
  "kernelspec": {
   "display_name": "Python 3 (ipykernel)",
   "language": "python",
   "name": "python3"
  },
  "language_info": {
   "codemirror_mode": {
    "name": "ipython",
    "version": 3
   },
   "file_extension": ".py",
   "mimetype": "text/x-python",
   "name": "python",
   "nbconvert_exporter": "python",
   "pygments_lexer": "ipython3",
   "version": "3.12.4"
  }
 },
 "nbformat": 4,
 "nbformat_minor": 5
}
