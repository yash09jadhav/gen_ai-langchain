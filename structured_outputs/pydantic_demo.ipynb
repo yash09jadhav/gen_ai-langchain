{
 "cells": [
  {
   "cell_type": "markdown",
   "id": "e9a4e56b-91ac-4d7c-9440-0085111c0249",
   "metadata": {},
   "source": [
    "- 1. basic example of pydantic how it does data validation"
   ]
  },
  {
   "cell_type": "code",
   "execution_count": 5,
   "id": "ecd79b5b-5f7c-4fee-ab04-7184c7381740",
   "metadata": {},
   "outputs": [
    {
     "name": "stdout",
     "output_type": "stream",
     "text": [
      "nitish\n"
     ]
    }
   ],
   "source": [
    "from pydantic import BaseModel\n",
    "class Student(BaseModel):\n",
    "    name:str \n",
    "\n",
    "new_student = {'name':'nitish'}\n",
    "\n",
    "student = Student(**new_student)\n",
    "\n",
    "print(student.name)"
   ]
  },
  {
   "cell_type": "markdown",
   "id": "c3d7bd4f-da9a-4821-b572-288941b3e959",
   "metadata": {},
   "source": [
    "- 2. how it sets default values when dictionary is empty"
   ]
  },
  {
   "cell_type": "code",
   "execution_count": 4,
   "id": "80d8aa1b-b065-49ef-af84-5087cbeb1949",
   "metadata": {},
   "outputs": [
    {
     "name": "stdout",
     "output_type": "stream",
     "text": [
      "nitish\n"
     ]
    }
   ],
   "source": [
    "from pydantic import BaseModel\n",
    "class Student(BaseModel):\n",
    "    name:str = 'nitish'\n",
    "\n",
    "new_student = {}\n",
    "\n",
    "student = Student(**new_student)\n",
    "\n",
    "print(student.name)"
   ]
  },
  {
   "cell_type": "markdown",
   "id": "dc6629c6-26a8-464b-9f96-e7f87dddd134",
   "metadata": {},
   "source": [
    "- 3. some fields may be optional "
   ]
  },
  {
   "cell_type": "code",
   "execution_count": 10,
   "id": "875bea60-8596-4270-953c-425bcd028f2d",
   "metadata": {},
   "outputs": [
    {
     "name": "stdout",
     "output_type": "stream",
     "text": [
      "name='nitish' age=None\n"
     ]
    }
   ],
   "source": [
    "from pydantic import BaseModel\n",
    "from typing import Optional\n",
    "\n",
    "class Student(BaseModel):\n",
    "    name:str = 'nitish'\n",
    "    age: Optional[int] = None\n",
    "\n",
    "new_student = {}\n",
    "\n",
    "student = Student(**new_student)\n",
    "\n",
    "print(student)"
   ]
  },
  {
   "cell_type": "code",
   "execution_count": 9,
   "id": "203b0b01-02e0-4307-83c8-1e784d3a1826",
   "metadata": {},
   "outputs": [
    {
     "name": "stdout",
     "output_type": "stream",
     "text": [
      "name='nitish' age=23\n"
     ]
    }
   ],
   "source": [
    "from pydantic import BaseModel\n",
    "from typing import Optional\n",
    "\n",
    "class Student(BaseModel):\n",
    "    name:str = 'nitish'\n",
    "    age: Optional[int] = None\n",
    "\n",
    "new_student = {'age':23}\n",
    "\n",
    "student = Student(**new_student)\n",
    "\n",
    "print(student)"
   ]
  },
  {
   "cell_type": "markdown",
   "id": "5607a873-de8c-417c-9bc3-947542bd459f",
   "metadata": {},
   "source": [
    "- 4. type coercing -> if age is given as string by mistake pydantic understands this mistake and doesnt throws an error"
   ]
  },
  {
   "cell_type": "code",
   "execution_count": 11,
   "id": "1057c0b0-047f-46c1-b6b2-1ed6b181cd32",
   "metadata": {},
   "outputs": [
    {
     "name": "stdout",
     "output_type": "stream",
     "text": [
      "name='nitish' age=23\n"
     ]
    }
   ],
   "source": [
    "from pydantic import BaseModel\n",
    "from typing import Optional\n",
    "\n",
    "class Student(BaseModel):\n",
    "    name:str = 'nitish'\n",
    "    age: Optional[int] = None\n",
    "\n",
    "new_student = {'age':'23'}\n",
    "\n",
    "student = Student(**new_student)\n",
    "\n",
    "print(student)"
   ]
  },
  {
   "cell_type": "markdown",
   "id": "ea17f73c-8ccc-47bc-8256-78a7d0bad32d",
   "metadata": {},
   "source": [
    "- 5. email validation"
   ]
  },
  {
   "cell_type": "code",
   "execution_count": 21,
   "id": "5d9a8ee5-2699-47ee-8dd5-6a8a9c30e3e8",
   "metadata": {},
   "outputs": [
    {
     "name": "stdout",
     "output_type": "stream",
     "text": [
      "name='nitish' age=23 email='abc@lc.om'\n"
     ]
    }
   ],
   "source": [
    "from pydantic import BaseModel, EmailStr\n",
    "from typing import Optional\n",
    "\n",
    "class Student(BaseModel):\n",
    "    name:str = 'nitish'\n",
    "    age: Optional[int] = None\n",
    "    email: EmailStr\n",
    "\n",
    "new_student = {'age':'23', 'email':'abc@lc.om'}\n",
    "\n",
    "student = Student(**new_student)\n",
    "\n",
    "print(student)"
   ]
  },
  {
   "cell_type": "markdown",
   "id": "c9599241-fde7-4559-8500-24706c0421c5",
   "metadata": {},
   "source": [
    "- 6. field function -> to set constraints, default values"
   ]
  },
  {
   "cell_type": "code",
   "execution_count": 29,
   "id": "f22ea941-aa26-4f1e-a877-41357099cb73",
   "metadata": {},
   "outputs": [
    {
     "name": "stdout",
     "output_type": "stream",
     "text": [
      "name='nitish' age=23 email='abc@lc.om' cgpa=8.34\n",
      "{\"name\":\"nitish\",\"age\":23,\"email\":\"abc@lc.om\",\"cgpa\":8.34}\n"
     ]
    }
   ],
   "source": [
    "from pydantic import BaseModel, EmailStr, Field\n",
    "from typing import Optional\n",
    "\n",
    "class Student(BaseModel):\n",
    "    name:str = 'nitish'\n",
    "    age: Optional[int] = None\n",
    "    email: EmailStr\n",
    "    cgpa: float = Field (gt=0, lt=10, default=8, description='iq of student')\n",
    "\n",
    "new_student = {'age':'23', 'email':'abc@lc.om', 'cgpa':8.34}\n",
    "\n",
    "student = Student(**new_student)\n",
    "\n",
    "print(student)\n",
    "print(student.model_dump_json())"
   ]
  }
 ],
 "metadata": {
  "kernelspec": {
   "display_name": "Python 3 (ipykernel)",
   "language": "python",
   "name": "python3"
  },
  "language_info": {
   "codemirror_mode": {
    "name": "ipython",
    "version": 3
   },
   "file_extension": ".py",
   "mimetype": "text/x-python",
   "name": "python",
   "nbconvert_exporter": "python",
   "pygments_lexer": "ipython3",
   "version": "3.12.4"
  }
 },
 "nbformat": 4,
 "nbformat_minor": 5
}
